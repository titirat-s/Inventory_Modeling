{
 "cells": [
  {
   "cell_type": "markdown",
   "metadata": {},
   "source": [
    "# Apply EOQ, ROP, TC in case quantity discount model\n",
    "\n",
    "For product A, Having a number of demand during a year, 250 work days.<br>Inventory in warehouses have 800 units\n",
    "\n",
    "Supplier provide discount per unit due to purchase quantity with order condition\n",
    "* 5.0฿ per unit for purchase 1 - 4 pallet -> not over 4 * 48 * 12 == 2,304 units\n",
    "* 4.5฿ per unit for purchase 5 - 8 pallet -> not over 8 * 48 * 12 == 4,608 units\n",
    "* 4.0฿ per unit for purchase over 8 pallet -> more than 4,608 units\n",
    "* The palett have contain maximum 48 boxes\n",
    "* The box have contain 12 inventory units\n",
    "* Minimum order quantity is 1 pallet -- 576 units\n",
    "* Minimum lot size is 1 box -- 12 units\n",
    "* each of orders have average 7 days to delivers.\n",
    "\n",
    "For the operation cost having:\n",
    "* Set up cost: once order is 300฿\n",
    "* Holding cost: holding cost 20% of inventory cost per units\n",
    "\n",
    "Consider to EOQ of each price, 5฿, 4.5฿, 4฿. Did EOQ from case is true?<br>\n",
    "Based on Total cost, how many units should orders with minimum cost.\n",
    "\n",
    "Model price break:\n",
    "1. Holding cost are constant\n",
    "  - compute EOQ\n",
    "  - compute the TC for all price break with lower unit cost\n",
    "2. Holding cost as % of price\n",
    "  - start with lowest unit price, compute EOQ\n",
    "  - if EOQ in lowest price range - finished\n",
    "  - compute total cost for next lower price ranges"
   ]
  },
  {
   "cell_type": "code",
   "execution_count": null,
   "metadata": {},
   "outputs": [],
   "source": [
    "# @markdown import python package\n",
    "\n",
    "import math, random\n",
    "import os, openpyxl\n",
    "import scipy.stats as stats\n",
    "import numpy as np\n",
    "import pandas as pd\n",
    "\n",
    "import warnings\n",
    "warnings.filterwarnings('ignore')"
   ]
  },
  {
   "cell_type": "code",
   "execution_count": 1,
   "metadata": {},
   "outputs": [
    {
     "ename": "ImportError",
     "evalue": "cannot import name 'BackendFilter' from 'matplotlib.backends' (C:\\Users\\HP\\AppData\\Roaming\\Python\\Python312\\site-packages\\matplotlib\\backends\\__init__.py)",
     "output_type": "error",
     "traceback": [
      "\u001b[1;31m---------------------------------------------------------------------------\u001b[0m",
      "\u001b[1;31mImportError\u001b[0m                               Traceback (most recent call last)",
      "Cell \u001b[1;32mIn[1], line 1\u001b[0m\n\u001b[1;32m----> 1\u001b[0m \u001b[38;5;28;01mimport\u001b[39;00m \u001b[38;5;21;01mmatplotlib\u001b[39;00m\u001b[38;5;21;01m.\u001b[39;00m\u001b[38;5;21;01mpyplot\u001b[39;00m \u001b[38;5;28;01mas\u001b[39;00m \u001b[38;5;21;01mplt\u001b[39;00m\n",
      "File \u001b[1;32m~\\AppData\\Roaming\\Python\\Python312\\site-packages\\matplotlib\\__init__.py:174\u001b[0m\n\u001b[0;32m    170\u001b[0m \u001b[38;5;28;01mfrom\u001b[39;00m \u001b[38;5;21;01mpackaging\u001b[39;00m\u001b[38;5;21;01m.\u001b[39;00m\u001b[38;5;21;01mversion\u001b[39;00m \u001b[38;5;28;01mimport\u001b[39;00m parse \u001b[38;5;28;01mas\u001b[39;00m parse_version\n\u001b[0;32m    172\u001b[0m \u001b[38;5;66;03m# cbook must import matplotlib only within function\u001b[39;00m\n\u001b[0;32m    173\u001b[0m \u001b[38;5;66;03m# definitions, so it is safe to import from it here.\u001b[39;00m\n\u001b[1;32m--> 174\u001b[0m \u001b[38;5;28;01mfrom\u001b[39;00m \u001b[38;5;21;01m.\u001b[39;00m \u001b[38;5;28;01mimport\u001b[39;00m _api, _version, cbook, _docstring, rcsetup\n\u001b[0;32m    175\u001b[0m \u001b[38;5;28;01mfrom\u001b[39;00m \u001b[38;5;21;01mmatplotlib\u001b[39;00m\u001b[38;5;21;01m.\u001b[39;00m\u001b[38;5;21;01mcbook\u001b[39;00m \u001b[38;5;28;01mimport\u001b[39;00m sanitize_sequence\n\u001b[0;32m    176\u001b[0m \u001b[38;5;28;01mfrom\u001b[39;00m \u001b[38;5;21;01mmatplotlib\u001b[39;00m\u001b[38;5;21;01m.\u001b[39;00m\u001b[38;5;21;01m_api\u001b[39;00m \u001b[38;5;28;01mimport\u001b[39;00m MatplotlibDeprecationWarning\n",
      "File \u001b[1;32m~\\AppData\\Roaming\\Python\\Python312\\site-packages\\matplotlib\\rcsetup.py:26\u001b[0m\n\u001b[0;32m     23\u001b[0m \u001b[38;5;28;01mimport\u001b[39;00m \u001b[38;5;21;01mnumpy\u001b[39;00m \u001b[38;5;28;01mas\u001b[39;00m \u001b[38;5;21;01mnp\u001b[39;00m\n\u001b[0;32m     25\u001b[0m \u001b[38;5;28;01mfrom\u001b[39;00m \u001b[38;5;21;01mmatplotlib\u001b[39;00m \u001b[38;5;28;01mimport\u001b[39;00m _api, cbook\n\u001b[1;32m---> 26\u001b[0m \u001b[38;5;28;01mfrom\u001b[39;00m \u001b[38;5;21;01mmatplotlib\u001b[39;00m\u001b[38;5;21;01m.\u001b[39;00m\u001b[38;5;21;01mbackends\u001b[39;00m \u001b[38;5;28;01mimport\u001b[39;00m BackendFilter, backend_registry\n\u001b[0;32m     27\u001b[0m \u001b[38;5;28;01mfrom\u001b[39;00m \u001b[38;5;21;01mmatplotlib\u001b[39;00m\u001b[38;5;21;01m.\u001b[39;00m\u001b[38;5;21;01mcbook\u001b[39;00m \u001b[38;5;28;01mimport\u001b[39;00m ls_mapper\n\u001b[0;32m     28\u001b[0m \u001b[38;5;28;01mfrom\u001b[39;00m \u001b[38;5;21;01mmatplotlib\u001b[39;00m\u001b[38;5;21;01m.\u001b[39;00m\u001b[38;5;21;01mcolors\u001b[39;00m \u001b[38;5;28;01mimport\u001b[39;00m Colormap, is_color_like\n",
      "\u001b[1;31mImportError\u001b[0m: cannot import name 'BackendFilter' from 'matplotlib.backends' (C:\\Users\\HP\\AppData\\Roaming\\Python\\Python312\\site-packages\\matplotlib\\backends\\__init__.py)"
     ]
    }
   ],
   "source": [
    "import matplotlib.pyplot as plt"
   ]
  },
  {
   "cell_type": "code",
   "execution_count": null,
   "metadata": {},
   "outputs": [],
   "source": [
    "from MinimumLotSize import LotSize as lot\n",
    "from SafetyStock import SafetyStock as sts\n",
    "from ReOrderPoint import ROP as rop\n",
    "from EconomicOrderQuantity import EOQ, impact_ratio as eoq, impacts\n",
    "from TotalCost import TC as ttc\n",
    "\n",
    "assert impacts(29.12, 32, True) == 0.1112\n",
    "assert sts.normdist(Demand=500, Leadtime=3, service_level=90) == 0"
   ]
  },
  {
   "cell_type": "markdown",
   "metadata": {},
   "source": [
    "## Data"
   ]
  },
  {
   "cell_type": "code",
   "execution_count": null,
   "metadata": {},
   "outputs": [],
   "source": [
    "demand_df = pd.read_excel('data.xlsx', sheet_name='demand',\n",
    "                          engine='openpyxl', header=0,usecols=\"A\")\n",
    "print(\"Demand profile:\")\n",
    "demand_df.describe().round(2).T"
   ]
  },
  {
   "cell_type": "code",
   "execution_count": null,
   "metadata": {},
   "outputs": [],
   "source": [
    "# Plot data profile func \n",
    "def plot_data_profile(data, label):\n",
    "    fig, axs = plt.subplots(2, figsize=(10, 6))\n",
    "    axs[0].plot(data, label=label, c=\"#979797\")\n",
    "    axs[0].axhline(y=data.mean(), c = \"g\", ls=\"--\", label=f\"average {label}\")\n",
    "    axs[0].set_title(f\"Dynamic of {label}\")\n",
    "    axs[0].legend(loc=7);\n",
    "\n",
    "    axs[1].hist(data, color =\"#979797\")\n",
    "    axs[1].set_title(f\"Frequence of {label}\");"
   ]
  },
  {
   "cell_type": "code",
   "execution_count": null,
   "metadata": {},
   "outputs": [],
   "source": [
    "plot_data_profile(demand_df[\"demand\"], \"demand\")"
   ]
  },
  {
   "cell_type": "markdown",
   "metadata": {},
   "source": [
    "## Leadtime\n",
    "- Generate leadtime"
   ]
  },
  {
   "cell_type": "code",
   "execution_count": null,
   "metadata": {},
   "outputs": [],
   "source": [
    "# @markdown Generate order leadtime\n",
    "leadtime_day = []\n",
    "random.seed(42)\n",
    "for i in np.random.normal(loc=4, scale=1.5, size=11):\n",
    "  leadtime_day.append(round(i))\n",
    "\n",
    "leadtime_days = pd.DataFrame(data={\"leadtime\":leadtime_day}, index = range(11))\n",
    "\n",
    "print(\"Leadtime profile:\")\n",
    "leadtime_days.describe().round(2).T"
   ]
  },
  {
   "cell_type": "code",
   "execution_count": null,
   "metadata": {},
   "outputs": [],
   "source": [
    "plot_data_profile(leadtime_days[\"leadtime\"], \"leadtime\")"
   ]
  },
  {
   "cell_type": "markdown",
   "metadata": {},
   "source": [
    "## Determine EOQ"
   ]
  },
  {
   "cell_type": "code",
   "execution_count": null,
   "metadata": {},
   "outputs": [],
   "source": [
    "# @markdown determine parameter\n",
    "\n",
    "# Determine Inventory in warehouse\n",
    "stock_zero = 1800\n",
    "\n",
    "# Determine Operation cost\n",
    "setup_c = 300\n",
    "holding_c = 0.2\n",
    "\n",
    "discount_price = {5.0 : 576,\n",
    "                  4.5 : 2304,\n",
    "                  4.0 : 4608}\n",
    "\n",
    "print(f\"\"\"\n",
    "      Work day = {len(demand_df)} days\n",
    "      Operation Cost:\n",
    "        - Set up cost = {setup_c}฿\n",
    "        - Holding cost = {holding_c*100}% of inventory price\"\"\");\n",
    "\n",
    "year_demand = demand_df[\"demand\"].sum()\n",
    "I = year_demand - stock_zero\n",
    "\n",
    "print(f\"Year Demand ({len(demand_df)} days) =\",year_demand)\n",
    "print(\"Inventory on hand =\", stock_zero)\n",
    "print(\"Inventory require to order =\", I)"
   ]
  },
  {
   "cell_type": "markdown",
   "metadata": {},
   "source": [
    "### Perform EOQ for each product price"
   ]
  },
  {
   "cell_type": "code",
   "execution_count": null,
   "metadata": {},
   "outputs": [],
   "source": [
    "# @markdown Apply EOQ for discount\n",
    "# Calculate EOQ for each cost range\n",
    "print(\"EOQ at each price\")\n",
    "print(\"---\")\n",
    "\n",
    "for price in discount_price:\n",
    "  print(f\"Order more than {discount_price.get(price)} units, product price = {price}฿.\\nEOQ =\",\n",
    "        round(eoq(D = I, S=setup_c, H=holding_c*(price)), 2), \"units\")\n",
    "  print(\"----------\");"
   ]
  },
  {
   "cell_type": "markdown",
   "metadata": {},
   "source": [
    "Let's see total cost of EOQ by using quantity discount model compare with total cost of purchase unit at lowest cost.\n",
    "\n",
    "Total cost model\n",
    "> Total Cost = Set up cost + Holding cost + Purchase cost"
   ]
  },
  {
   "cell_type": "code",
   "execution_count": null,
   "metadata": {},
   "outputs": [],
   "source": [
    "eoq_price = eoq(D = I, S=setup_c, H=holding_c*4.5)\n",
    "eoq_ord = lot.round_lot_size( eoq_price, 12)\n",
    "min_4_ord = discount_price.get(4)\n",
    "eoq_cost = ttc(D=I, C=4.5, S=setup_c, H=holding_c*4.5, Q=eoq_ord)\n",
    "minord_cost = ttc(D=I, C=4, S=setup_c, H=holding_c*4, Q=discount_price.get(4))\n",
    "\n",
    "print(f\"True economic order quantity is {round(eoq_price, 2)} units.\\nwith lot size 12 units, order quantity will be {eoq_ord} units.\")\n",
    "print(f\"Order quantity at eoq ({eoq_ord} units) is lower than order at mininmum price ({min_4_ord} units) at {min_4_ord - eoq_ord} units\")\n",
    "print(\"-----\")\n",
    "print(f\"Total cost to order at economic order quantity ({eoq_ord} units with 4.5฿) is {eoq_cost}฿\")\n",
    "print(f\"Total cost to order at minimum price ({min_4_ord} units with 4.0฿) is {minord_cost}฿\")"
   ]
  },
  {
   "cell_type": "code",
   "execution_count": null,
   "metadata": {},
   "outputs": [],
   "source": [
    "# @markdown Campare Total cost in each price\n",
    "for i in discount_price:\n",
    "  print(f\"Total cost to order at {discount_price.get(i)} units with price {i}฿ is\", str(ttc(D=I, C=i, S=setup_c, H=holding_c*i, Q=discount_price.get(i)))+\"฿\")\n",
    "  print(f\"Numbers of order: {math.ceil(I/discount_price.get(i))} orders\")\n",
    "  print(\"-----\")\n",
    "print(f\"Total cost to order at EOQ {eoq_ord} units with price 4.5฿ is {eoq_cost}฿\")\n",
    "print(f\"Numbers of order: {math.ceil(I/eoq_ord)} orders\")\n",
    "print(\"-----\")"
   ]
  },
  {
   "cell_type": "markdown",
   "metadata": {},
   "source": [
    "Total cost of purchase at EOQ (3936 unite) is more than purchase at minimum price (4608 units).<br>\n",
    "Let's see if there are total cost smaller by what-if simulation."
   ]
  },
  {
   "cell_type": "markdown",
   "metadata": {},
   "source": [
    "### What-if Analysis"
   ]
  },
  {
   "cell_type": "code",
   "execution_count": null,
   "metadata": {},
   "outputs": [],
   "source": [
    "# @markdown Inventory cost modeling\n",
    "# quantity range set up\n",
    "min_qty = 1 * 48 * 12 # minimum order quantity -> 576 //1 pallet with 48 box and 12 bags init\n",
    "max_qty = 9 * 48 * 12 # max order quantity -> 5184 // 9 pallet\n",
    "step_qty = 12 # step increase by minimum lot 12 -> box\n",
    "\n",
    "cost_plot = pd.DataFrame()\n",
    "cost_plot[\"quantity\"] = range(min_qty, max_qty+1, step_qty)\n",
    "cost_plot[\"inv_price\"] = cost_plot[\"quantity\"].apply(lambda x: 4 if x > discount_price.get(4) else 4.5 if x > discount_price.get(4.5) else 5)\n",
    "\n",
    "cost_plot[\"inventory_cost\"] =   (cost_plot[\"inv_price\"]*I).round(2)\n",
    "cost_plot[\"holding_cost\"] = ttc(D=I, C=0, S=0, H=holding_c*cost_plot[\"inv_price\"], Q=cost_plot[\"quantity\"])\n",
    "cost_plot[\"setup_cost\"] =   ttc(D=I, C=0, S=setup_c, H=0, Q=cost_plot[\"quantity\"])\n",
    "\n",
    "cost_plot[\"operation_cost\"] = cost_plot[\"holding_cost\"] + cost_plot[\"setup_cost\"]\n",
    "cost_plot[\"TC\"] = (cost_plot[\"inventory_cost\"] + cost_plot[\"holding_cost\"] + cost_plot[\"setup_cost\"]).round(2)\n",
    "\n",
    "print(f\"\"\"\n",
    "    Simulation parameter:\\n\n",
    "      Start order unit: {min_qty} units\n",
    "      Stop order unit: {max_qty} units\n",
    "      Increase unit: {step_qty} units\n",
    "\"\"\")\n",
    "cost_plot"
   ]
  },
  {
   "cell_type": "code",
   "execution_count": null,
   "metadata": {},
   "outputs": [],
   "source": [
    "# @markdown Model minimum cost\n",
    "print(\"Minimum cost model:\")\n",
    "cost_plot[cost_plot[\"TC\"] == cost_plot[\"TC\"].min()]"
   ]
  },
  {
   "cell_type": "code",
   "execution_count": null,
   "metadata": {},
   "outputs": [],
   "source": [
    "# @markdown Inventory cost plot\n",
    "min_tc_cost = min(cost_plot[\"TC\"])\n",
    "min_tc = cost_plot[cost_plot[\"TC\"] == min_tc_cost][\"quantity\"].min()\n",
    "\n",
    "min_oc_cost = min(cost_plot[\"operation_cost\"])\n",
    "min_oc = cost_plot[cost_plot[\"operation_cost\"] == min_oc_cost][\"quantity\"].min()\n",
    "\n",
    "# Plot model\n",
    "fig, axs = plt.subplots(3, figsize=(10, 10), sharex=True)\n",
    "axs[0].plot(cost_plot[\"quantity\"], cost_plot[\"inventory_cost\"], label=\"Inventory cost\", c = \"g\", ls = \"-\")\n",
    "for i in discount_price: #qty_range\n",
    "  axs[0].axvline(x=discount_price.get(i), c = \"#999999\", ls=\"--\")\n",
    "axs[0].set_title(\"Dynamic of inventory cost due to order quantity\")\n",
    "axs[0].legend(loc=1)\n",
    "\n",
    "axs[1].plot(cost_plot[\"quantity\"], cost_plot[\"holding_cost\"], label=\"Holding cost\", c = \"b\", ls = \"-.\")\n",
    "axs[1].plot(cost_plot[\"quantity\"], cost_plot[\"setup_cost\"], label=\"Set up cost\", c = \"r\", ls = \"--\")\n",
    "axs[1].plot(cost_plot[\"quantity\"], cost_plot[\"operation_cost\"], label=\"total\",c = \"#999999\", ls = \":\")\n",
    "axs[1].axvline(x=min_oc, c = \"#999999\", ls=\"--\", label = f\"min OC, {min_oc} units,\\ncost {round(min_oc_cost, 2)}\")\n",
    "axs[1].set_title(\"\\n Dynamic of operation cost due to order quantity\")\n",
    "axs[1].legend(loc=1)\n",
    "\n",
    "axs[2].plot(cost_plot[\"quantity\"], cost_plot[\"TC\"], label=\"Total cost\", c=\"#467966\", ls=\"-\", marker='.')\n",
    "axs[2].axvline(x=min_tc, c = \"#999999\", ls=\"--\", label = f\"min TC, {min_tc} units,\\ncost {round(min_tc_cost, 2)}\")\n",
    "axs[2].set_title(\"\\n Dynamic of total cost due to order quantity\")\n",
    "axs[2].legend(loc=1)\n",
    "\n",
    "plt.xlabel(\"Order quantity (Units/time)\")\n",
    "plt.ylabel(\"Annual Cost (฿)\");"
   ]
  },
  {
   "cell_type": "code",
   "execution_count": null,
   "metadata": {},
   "outputs": [],
   "source": [
    "# @markdown\n",
    "save_eoq = round((cost_plot[cost_plot[\"quantity\"] == lot.round_lot_size(x=eoq_ord, min_size=step_qty) ][\"TC\"].max() - min_tc_cost),2)\n",
    "print(f\"From cost model, order quantity at {min_tc} units can save {save_eoq}฿ from order quantity at EOQ, {eoq_ord} units.\" )"
   ]
  },
  {
   "cell_type": "markdown",
   "metadata": {},
   "source": [
    "## Determine ROP"
   ]
  },
  {
   "cell_type": "code",
   "execution_count": null,
   "metadata": {},
   "outputs": [],
   "source": [
    "# prepare dataframe\n",
    "zero = pd.DataFrame(data=[0], index=[0])\n",
    "plan_df = pd.concat([zero, demand_df['demand']], ignore_index=True)\n",
    "plan_df.columns = [\"demand\"]\n",
    "\n",
    "leadtime_df = pd.concat([zero, leadtime_days[\"leadtime\"]], ignore_index=True, )\n",
    "leadtime_df.columns = [\"leadtime\"]"
   ]
  },
  {
   "cell_type": "code",
   "execution_count": null,
   "metadata": {},
   "outputs": [],
   "source": [
    "# @markdown Simulate inventory level from Re-Order Point and Order quantity\n",
    "df = plan_df.copy()\n",
    "\n",
    "# Initial stock on day 0\n",
    "stock_zero # 1800\n",
    "min_tc # eoq 4620\n",
    "model_lt = math.ceil(leadtime_days[\"leadtime\"].mean())\n",
    "model_ss = math.ceil(sts.normdist(demand_df[\"demand\"], leadtime_days[\"leadtime\"], 95))\n",
    "model_rop = math.ceil(rop(demand_df[\"demand\"], Leadtime=leadtime_days[\"leadtime\"], Safety_Stock = model_ss))\n",
    "product_price = 4\n",
    "# Create a new column 'on_hand' with initial stock\n",
    "df['on_hand'] = stock_zero\n",
    "df['rop_check'] = False\n",
    "df['order_arrive'] = 0\n",
    "df['onhand_cost'] = 0\n",
    "\n",
    "onhand = []\n",
    "ropcheck = []\n",
    "order_arr = []\n",
    "\n",
    "# loop calculate\n",
    "for i in df.index:\n",
    "\n",
    "  l_index = int(sum(df['rop_check'][:i]))\n",
    "  leadtime = int(leadtime_df.loc[l_index, [\"leadtime\"]])\n",
    "\n",
    "  # Check if order arrive -> if rop.shift(leadtime) == True then onhand + order qty\n",
    "  if i < model_lt:\n",
    "    order_arr.append(0)\n",
    "  elif df[\"rop_check\"][i - leadtime] == True:\n",
    "    order_arr.append(min_tc)\n",
    "  else:\n",
    "    order_arr.append(0)\n",
    "  df['order_arrive'][i] = order_arr[i]\n",
    "\n",
    "  # calculate on-hand unit after suse in demand and order arrive\n",
    "  \n",
    "  if i == 0:\n",
    "    onhand.append(stock_zero)\n",
    "  else:\n",
    "    onhand.append(df[\"on_hand\"][i-1]  - df[\"demand\"][i] + df['order_arrive'][i])\n",
    "  df[\"on_hand\"][i] = onhand[i]\n",
    "  df['onhand_cost'][i] = df[\"on_hand\"][i]*product_price\n",
    "\n",
    "  # Check left onhand is it less than rop, and if less check if there are ordered (Leadtime)\n",
    "  if (df[\"on_hand\"][i] <= model_rop) & (sum(ropcheck[i-leadtime : i]) == 0):\n",
    "    ropcheck.append(True)\n",
    "  else:\n",
    "    ropcheck.append(False)\n",
    "  df[\"rop_check\"][i] = ropcheck[i]\n",
    "\n",
    "print(\"Re-Order Poing and Safety stock at service level 95%\\nROP =\", model_rop, \"units\\nSafety Stock =\", model_ss,\"units\")"
   ]
  },
  {
   "cell_type": "code",
   "execution_count": null,
   "metadata": {},
   "outputs": [],
   "source": [
    "print(\"Schedule which include the order day and order arrive\");\n",
    "df[(df['rop_check']==True) | (df[\"order_arrive\"]>0)].replace({True: \"order\", False: 'arrive'})"
   ]
  },
  {
   "cell_type": "markdown",
   "metadata": {},
   "source": [
    "## Model summary"
   ]
  },
  {
   "cell_type": "code",
   "execution_count": null,
   "metadata": {},
   "outputs": [],
   "source": [
    "# @markdown\n",
    "inv_end = df.iloc[-1, 1]\n",
    "turn_over = round(df[\"demand\"].sum()/((stock_zero+inv_end)/2), 2)\n",
    "inv_day = round(len(demand_df)/turn_over, 2)\n",
    "inv_avg = (df[\"on_hand\"].mean()).round(2)\n",
    "inv_cost_avg = round( df['onhand_cost'].mean(),2)\n",
    "orderss = df[\"rop_check\"].sum()\n",
    "\n",
    "loss_sale = ((df[df[\"on_hand\"] <= 0][\"on_hand\"].count())/len(demand_df)).round(4)\n",
    "\n",
    "max_index = df[df[\"order_arrive\"]>0].index.to_list()\n",
    "min_index = [x-1 for x in max_index]\n",
    "avg_min_onhand = round(df.loc[min_index,\"on_hand\"].mean(),2)\n",
    "avg_max_onhand = round(df.loc[max_index,\"on_hand\"].mean(),2)\n",
    "\n",
    "print(f\"Number of order = {orderss} orders\") \n",
    "print(f\"Inventory in the end of period: {inv_end} units\")\n",
    "print(f\"Inventory turn over = {turn_over} cycle\")\n",
    "print(f\"Inventory day = {inv_day} days\")\n",
    "print(\"----------\")\n",
    "print(f\"Average maximum inventory carry = {avg_max_onhand} units\")\n",
    "print(f\"Average minimum inventory carry = {avg_min_onhand} units\")\n",
    "print(f\"Average inventory on-hand carry = {inv_avg} units\")\n",
    "print(f\"Average inventory cost carry = {inv_cost_avg}฿\")\n",
    "\n",
    "print(\"----------\")\n",
    "print(f\"Loss sale ratio = {loss_sale*100}%\")\n",
    "df[df[\"on_hand\"] <= 0]"
   ]
  },
  {
   "cell_type": "code",
   "execution_count": null,
   "metadata": {},
   "outputs": [],
   "source": [
    "# @markdown Inventory level model plot ls=95%\n",
    "fig, axs = plt.subplots(2, figsize=(10, 7))\n",
    "\n",
    "axs[0].plot(df[\"on_hand\"], label=\"on-hand\", c='k')\n",
    "axs[0].axhline(y=model_rop, label=f\"rop = {model_rop}\", c='#659053', ls='-', lw=0.8)\n",
    "axs[0].axhline(y= avg_max_onhand, label=f\"avg max = {avg_max_onhand}\", c='#d1b4ce', ls='-.', lw=0.8)\n",
    "axs[0].axhline(y= avg_min_onhand, label=f\"avg min= {avg_min_onhand}\", c='#b6d5eb', ls='-.', lw=0.8)\n",
    "axs[0].axhline(y=inv_avg , label=f\"average carry = {inv_avg}\", c='#a8e4a0', ls='--', lw=0.5)\n",
    "for i in df[df[\"rop_check\"]==True].index:\n",
    "  axs[0].axvline(x=i,  ymax= 130 ,c='#999999',ls=\":\")\n",
    "axs[0].set_title(\"Inventory level over time period with service level 95%\")\n",
    "axs[0].legend(loc=7);\n",
    "\n",
    "axs[1].plot(df[\"onhand_cost\"], label=\"inv-cost\", c='k', ls=\"-\")\n",
    "axs[1].axhline(y=model_rop*4, label=f\"rop = {model_rop*4}\", c='#659053', ls='-', lw=0.8)\n",
    "axs[1].axhline(y=avg_max_onhand*4, label=f\"avg max = {avg_max_onhand*4}\", c='#d1b4ce', ls='-.',lw=0.8)\n",
    "axs[1].axhline(y=avg_min_onhand*4, label=f\"avg min= {avg_min_onhand*4}\", c='#b6d5eb', ls='-.', lw=0.8)\n",
    "axs[1].axhline(y=inv_cost_avg, label=f\"avg carry = {inv_cost_avg}\", c='#a8e4a0', ls='--', lw=0.8)\n",
    "axs[1].set_title(\"\\nInventory cost carry during period with service level 95%\")\n",
    "axs[1].legend(loc=7);"
   ]
  }
 ],
 "metadata": {
  "kernelspec": {
   "display_name": "inv-env",
   "language": "python",
   "name": "python3"
  },
  "language_info": {
   "codemirror_mode": {
    "name": "ipython",
    "version": 3
   },
   "file_extension": ".py",
   "mimetype": "text/x-python",
   "name": "python",
   "nbconvert_exporter": "python",
   "pygments_lexer": "ipython3",
   "version": "3.12.4"
  }
 },
 "nbformat": 4,
 "nbformat_minor": 2
}
